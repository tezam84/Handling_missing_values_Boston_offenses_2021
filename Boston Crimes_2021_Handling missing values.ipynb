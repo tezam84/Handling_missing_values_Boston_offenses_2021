{
 "cells": [
  {
   "cell_type": "markdown",
   "id": "743d49c0",
   "metadata": {},
   "source": [
    "<div class=\"alert alert-block alert-info\">\n",
    "<b>Import librairies\n",
    "</div>"
   ]
  },
  {
   "cell_type": "code",
   "execution_count": 7,
   "id": "1e9d6a50",
   "metadata": {},
   "outputs": [],
   "source": [
    "import numpy as np\n",
    "import pandas as pd\n",
    "import matplotlib.pyplot as plt\n",
    "import seaborn as sns\n",
    "%matplotlib inline\n",
    "import warnings\n",
    "warnings.filterwarnings(\"ignore\")"
   ]
  },
  {
   "cell_type": "markdown",
   "id": "d5b20af4",
   "metadata": {},
   "source": [
    "<div class=\"alert alert-block alert-info\">\n",
    "<b>Load dataset \n",
    "</div>"
   ]
  },
  {
   "cell_type": "code",
   "execution_count": 8,
   "id": "60731c2f",
   "metadata": {},
   "outputs": [],
   "source": [
    "df=pd.read_csv('Crime incident Boston.csv')"
   ]
  },
  {
   "cell_type": "code",
   "execution_count": 9,
   "id": "1af3764c",
   "metadata": {},
   "outputs": [
    {
     "data": {
      "text/plain": [
       "(71721, 17)"
      ]
     },
     "execution_count": 9,
     "metadata": {},
     "output_type": "execute_result"
    }
   ],
   "source": [
    "df.shape"
   ]
  },
  {
   "cell_type": "markdown",
   "id": "b785fe2e",
   "metadata": {},
   "source": [
    "<font color='green'>There are 17 columns and 71,721 observations</font>"
   ]
  },
  {
   "cell_type": "markdown",
   "id": "8ff3b4ce",
   "metadata": {},
   "source": [
    "<div class=\"alert alert-block alert-info\">\n",
    "<b>We can observe the dataset using the head()function, which returns the first ten records from the dataset\n",
    "</div>"
   ]
  },
  {
   "cell_type": "code",
   "execution_count": 10,
   "id": "27d41c9e",
   "metadata": {},
   "outputs": [
    {
     "data": {
      "text/html": [
       "<div>\n",
       "<style scoped>\n",
       "    .dataframe tbody tr th:only-of-type {\n",
       "        vertical-align: middle;\n",
       "    }\n",
       "\n",
       "    .dataframe tbody tr th {\n",
       "        vertical-align: top;\n",
       "    }\n",
       "\n",
       "    .dataframe thead th {\n",
       "        text-align: right;\n",
       "    }\n",
       "</style>\n",
       "<table border=\"1\" class=\"dataframe\">\n",
       "  <thead>\n",
       "    <tr style=\"text-align: right;\">\n",
       "      <th></th>\n",
       "      <th>INCIDENT_NUMBER</th>\n",
       "      <th>OFFENSE_CODE</th>\n",
       "      <th>OFFENSE_CODE_GROUP</th>\n",
       "      <th>OFFENSE_DESCRIPTION</th>\n",
       "      <th>DISTRICT</th>\n",
       "      <th>REPORTING_AREA</th>\n",
       "      <th>SHOOTING</th>\n",
       "      <th>OCCURRED_ON_DATE</th>\n",
       "      <th>YEAR</th>\n",
       "      <th>MONTH</th>\n",
       "      <th>DAY_OF_WEEK</th>\n",
       "      <th>HOUR</th>\n",
       "      <th>UCR_PART</th>\n",
       "      <th>STREET</th>\n",
       "      <th>Lat</th>\n",
       "      <th>Long</th>\n",
       "      <th>Location</th>\n",
       "    </tr>\n",
       "  </thead>\n",
       "  <tbody>\n",
       "    <tr>\n",
       "      <th>0</th>\n",
       "      <td>PLTEST005</td>\n",
       "      <td>520</td>\n",
       "      <td>NaN</td>\n",
       "      <td>BURGLARY - RESIDENTIAL</td>\n",
       "      <td>B2</td>\n",
       "      <td>289</td>\n",
       "      <td>1</td>\n",
       "      <td>2021-10-13 00:00:00</td>\n",
       "      <td>2021</td>\n",
       "      <td>10</td>\n",
       "      <td>Wednesday</td>\n",
       "      <td>0</td>\n",
       "      <td>NaN</td>\n",
       "      <td>SCHROEDER PLZ</td>\n",
       "      <td>42.333679</td>\n",
       "      <td>-71.091878</td>\n",
       "      <td>(42.33367921810846, -71.09187754618458)</td>\n",
       "    </tr>\n",
       "    <tr>\n",
       "      <th>1</th>\n",
       "      <td>PLTEST003</td>\n",
       "      <td>3114</td>\n",
       "      <td>NaN</td>\n",
       "      <td>INVESTIGATE PROPERTY</td>\n",
       "      <td>B2</td>\n",
       "      <td>289</td>\n",
       "      <td>0</td>\n",
       "      <td>2021-05-12 00:00:00</td>\n",
       "      <td>2021</td>\n",
       "      <td>5</td>\n",
       "      <td>Wednesday</td>\n",
       "      <td>0</td>\n",
       "      <td>NaN</td>\n",
       "      <td>SCHROEDER PLZ</td>\n",
       "      <td>42.333679</td>\n",
       "      <td>-71.091878</td>\n",
       "      <td>(42.33367921810846, -71.09187754618458)</td>\n",
       "    </tr>\n",
       "    <tr>\n",
       "      <th>2</th>\n",
       "      <td>PLTEST002</td>\n",
       "      <td>3114</td>\n",
       "      <td>NaN</td>\n",
       "      <td>INVESTIGATE PROPERTY</td>\n",
       "      <td>B2</td>\n",
       "      <td>289</td>\n",
       "      <td>0</td>\n",
       "      <td>2021-05-12 00:00:00</td>\n",
       "      <td>2021</td>\n",
       "      <td>5</td>\n",
       "      <td>Wednesday</td>\n",
       "      <td>0</td>\n",
       "      <td>NaN</td>\n",
       "      <td>SCHROEDER PLZ</td>\n",
       "      <td>42.333679</td>\n",
       "      <td>-71.091878</td>\n",
       "      <td>(42.33367921810846, -71.09187754618458)</td>\n",
       "    </tr>\n",
       "    <tr>\n",
       "      <th>3</th>\n",
       "      <td>PLTEST001</td>\n",
       "      <td>3114</td>\n",
       "      <td>NaN</td>\n",
       "      <td>INVESTIGATE PROPERTY</td>\n",
       "      <td>B2</td>\n",
       "      <td></td>\n",
       "      <td>0</td>\n",
       "      <td>2021-03-29 00:00:00</td>\n",
       "      <td>2021</td>\n",
       "      <td>3</td>\n",
       "      <td>Monday</td>\n",
       "      <td>0</td>\n",
       "      <td>NaN</td>\n",
       "      <td>SCHROEDER PLAZA</td>\n",
       "      <td>0.000000</td>\n",
       "      <td>0.000000</td>\n",
       "      <td>(0, 0)</td>\n",
       "    </tr>\n",
       "    <tr>\n",
       "      <th>4</th>\n",
       "      <td>312030979</td>\n",
       "      <td>3201</td>\n",
       "      <td>NaN</td>\n",
       "      <td>PROPERTY - LOST/ MISSING</td>\n",
       "      <td>E13</td>\n",
       "      <td>465</td>\n",
       "      <td>0</td>\n",
       "      <td>2021-03-22 00:00:00</td>\n",
       "      <td>2021</td>\n",
       "      <td>3</td>\n",
       "      <td>Monday</td>\n",
       "      <td>0</td>\n",
       "      <td>NaN</td>\n",
       "      <td>BLUE HILL AVE</td>\n",
       "      <td>42.284826</td>\n",
       "      <td>-71.091374</td>\n",
       "      <td>(42.28482576580488, -71.09137368938802)</td>\n",
       "    </tr>\n",
       "    <tr>\n",
       "      <th>5</th>\n",
       "      <td>292152228</td>\n",
       "      <td>3301</td>\n",
       "      <td>NaN</td>\n",
       "      <td>VERBAL DISPUTE</td>\n",
       "      <td>C11</td>\n",
       "      <td>347</td>\n",
       "      <td>0</td>\n",
       "      <td>2021-07-28 20:45:00</td>\n",
       "      <td>2021</td>\n",
       "      <td>7</td>\n",
       "      <td>Wednesday</td>\n",
       "      <td>20</td>\n",
       "      <td>NaN</td>\n",
       "      <td>LYON ST</td>\n",
       "      <td>42.306383</td>\n",
       "      <td>-71.060212</td>\n",
       "      <td>(42.30638322801941, -71.06021217719662)</td>\n",
       "    </tr>\n",
       "    <tr>\n",
       "      <th>6</th>\n",
       "      <td>282080177</td>\n",
       "      <td>3801</td>\n",
       "      <td>NaN</td>\n",
       "      <td>M/V ACCIDENT - OTHER</td>\n",
       "      <td>A1</td>\n",
       "      <td></td>\n",
       "      <td>0</td>\n",
       "      <td>2021-11-02 13:23:00</td>\n",
       "      <td>2021</td>\n",
       "      <td>11</td>\n",
       "      <td>Tuesday</td>\n",
       "      <td>13</td>\n",
       "      <td>NaN</td>\n",
       "      <td>CAMBRIDGE ST &amp; BOWDOIN ST\\nBOSTON  MA 02114\\nU...</td>\n",
       "      <td>42.361190</td>\n",
       "      <td>-71.062880</td>\n",
       "      <td>(42.361189964341946, -71.06287997127626)</td>\n",
       "    </tr>\n",
       "    <tr>\n",
       "      <th>7</th>\n",
       "      <td>222000453</td>\n",
       "      <td>617</td>\n",
       "      <td>NaN</td>\n",
       "      <td>LARCENY THEFT FROM BUILDING</td>\n",
       "      <td>E13</td>\n",
       "      <td></td>\n",
       "      <td>0</td>\n",
       "      <td>2021-12-30 12:30:00</td>\n",
       "      <td>2021</td>\n",
       "      <td>12</td>\n",
       "      <td>Thursday</td>\n",
       "      <td>12</td>\n",
       "      <td>NaN</td>\n",
       "      <td>MONTEBELLO RD</td>\n",
       "      <td>42.311768</td>\n",
       "      <td>-71.099716</td>\n",
       "      <td>(42.31176765436927, -71.09971563708591)</td>\n",
       "    </tr>\n",
       "    <tr>\n",
       "      <th>8</th>\n",
       "      <td>222000599</td>\n",
       "      <td>1106</td>\n",
       "      <td>NaN</td>\n",
       "      <td>FRAUD - CREDIT CARD / ATM FRAUD</td>\n",
       "      <td>B2</td>\n",
       "      <td>282</td>\n",
       "      <td>0</td>\n",
       "      <td>2021-12-29 22:40:00</td>\n",
       "      <td>2021</td>\n",
       "      <td>12</td>\n",
       "      <td>Wednesday</td>\n",
       "      <td>22</td>\n",
       "      <td>NaN</td>\n",
       "      <td>WASHINGTON ST</td>\n",
       "      <td>42.328663</td>\n",
       "      <td>-71.085634</td>\n",
       "      <td>(42.32866283555608, -71.08563401183545)</td>\n",
       "    </tr>\n",
       "    <tr>\n",
       "      <th>9</th>\n",
       "      <td>222000592</td>\n",
       "      <td>1102</td>\n",
       "      <td>NaN</td>\n",
       "      <td>FRAUD - FALSE PRETENSE / SCHEME</td>\n",
       "      <td>A1</td>\n",
       "      <td>98</td>\n",
       "      <td>0</td>\n",
       "      <td>2021-11-23 00:00:00</td>\n",
       "      <td>2021</td>\n",
       "      <td>11</td>\n",
       "      <td>Tuesday</td>\n",
       "      <td>0</td>\n",
       "      <td>NaN</td>\n",
       "      <td>MILK ST</td>\n",
       "      <td>42.356733</td>\n",
       "      <td>-71.057559</td>\n",
       "      <td>(42.356733021573184, -71.05755938440176)</td>\n",
       "    </tr>\n",
       "  </tbody>\n",
       "</table>\n",
       "</div>"
      ],
      "text/plain": [
       "  INCIDENT_NUMBER  OFFENSE_CODE  OFFENSE_CODE_GROUP  \\\n",
       "0       PLTEST005           520                 NaN   \n",
       "1       PLTEST003          3114                 NaN   \n",
       "2       PLTEST002          3114                 NaN   \n",
       "3       PLTEST001          3114                 NaN   \n",
       "4       312030979          3201                 NaN   \n",
       "5       292152228          3301                 NaN   \n",
       "6       282080177          3801                 NaN   \n",
       "7       222000453           617                 NaN   \n",
       "8       222000599          1106                 NaN   \n",
       "9       222000592          1102                 NaN   \n",
       "\n",
       "               OFFENSE_DESCRIPTION DISTRICT REPORTING_AREA  SHOOTING  \\\n",
       "0           BURGLARY - RESIDENTIAL       B2            289         1   \n",
       "1             INVESTIGATE PROPERTY       B2            289         0   \n",
       "2             INVESTIGATE PROPERTY       B2            289         0   \n",
       "3             INVESTIGATE PROPERTY       B2                        0   \n",
       "4         PROPERTY - LOST/ MISSING      E13            465         0   \n",
       "5                   VERBAL DISPUTE      C11            347         0   \n",
       "6             M/V ACCIDENT - OTHER       A1                        0   \n",
       "7      LARCENY THEFT FROM BUILDING      E13                        0   \n",
       "8  FRAUD - CREDIT CARD / ATM FRAUD       B2            282         0   \n",
       "9  FRAUD - FALSE PRETENSE / SCHEME       A1             98         0   \n",
       "\n",
       "      OCCURRED_ON_DATE  YEAR  MONTH DAY_OF_WEEK  HOUR  UCR_PART  \\\n",
       "0  2021-10-13 00:00:00  2021     10   Wednesday     0       NaN   \n",
       "1  2021-05-12 00:00:00  2021      5   Wednesday     0       NaN   \n",
       "2  2021-05-12 00:00:00  2021      5   Wednesday     0       NaN   \n",
       "3  2021-03-29 00:00:00  2021      3      Monday     0       NaN   \n",
       "4  2021-03-22 00:00:00  2021      3      Monday     0       NaN   \n",
       "5  2021-07-28 20:45:00  2021      7   Wednesday    20       NaN   \n",
       "6  2021-11-02 13:23:00  2021     11     Tuesday    13       NaN   \n",
       "7  2021-12-30 12:30:00  2021     12    Thursday    12       NaN   \n",
       "8  2021-12-29 22:40:00  2021     12   Wednesday    22       NaN   \n",
       "9  2021-11-23 00:00:00  2021     11     Tuesday     0       NaN   \n",
       "\n",
       "                                              STREET        Lat       Long  \\\n",
       "0                                      SCHROEDER PLZ  42.333679 -71.091878   \n",
       "1                                      SCHROEDER PLZ  42.333679 -71.091878   \n",
       "2                                      SCHROEDER PLZ  42.333679 -71.091878   \n",
       "3                                    SCHROEDER PLAZA   0.000000   0.000000   \n",
       "4                                      BLUE HILL AVE  42.284826 -71.091374   \n",
       "5                                            LYON ST  42.306383 -71.060212   \n",
       "6  CAMBRIDGE ST & BOWDOIN ST\\nBOSTON  MA 02114\\nU...  42.361190 -71.062880   \n",
       "7                                      MONTEBELLO RD  42.311768 -71.099716   \n",
       "8                                      WASHINGTON ST  42.328663 -71.085634   \n",
       "9                                            MILK ST  42.356733 -71.057559   \n",
       "\n",
       "                                   Location  \n",
       "0   (42.33367921810846, -71.09187754618458)  \n",
       "1   (42.33367921810846, -71.09187754618458)  \n",
       "2   (42.33367921810846, -71.09187754618458)  \n",
       "3                                    (0, 0)  \n",
       "4   (42.28482576580488, -71.09137368938802)  \n",
       "5   (42.30638322801941, -71.06021217719662)  \n",
       "6  (42.361189964341946, -71.06287997127626)  \n",
       "7   (42.31176765436927, -71.09971563708591)  \n",
       "8   (42.32866283555608, -71.08563401183545)  \n",
       "9  (42.356733021573184, -71.05755938440176)  "
      ]
     },
     "execution_count": 10,
     "metadata": {},
     "output_type": "execute_result"
    }
   ],
   "source": [
    "df.head(10)"
   ]
  },
  {
   "cell_type": "markdown",
   "id": "016b320a",
   "metadata": {},
   "source": [
    "<font color='green'>NaN means Not a number or missing values <br> We can see that the columns OFFENSE_CODE_GROUP and UCR_PART have missing values</font>"
   ]
  },
  {
   "cell_type": "markdown",
   "id": "252e56be",
   "metadata": {},
   "source": [
    "<div class=\"alert alert-block alert-info\">\n",
    "<b>The info() method shows some of the characteristics of the data \n",
    "</div>"
   ]
  },
  {
   "cell_type": "code",
   "execution_count": 11,
   "id": "09d5371d",
   "metadata": {},
   "outputs": [
    {
     "name": "stdout",
     "output_type": "stream",
     "text": [
      "<class 'pandas.core.frame.DataFrame'>\n",
      "RangeIndex: 71721 entries, 0 to 71720\n",
      "Data columns (total 17 columns):\n",
      " #   Column               Non-Null Count  Dtype  \n",
      "---  ------               --------------  -----  \n",
      " 0   INCIDENT_NUMBER      71721 non-null  object \n",
      " 1   OFFENSE_CODE         71721 non-null  int64  \n",
      " 2   OFFENSE_CODE_GROUP   0 non-null      float64\n",
      " 3   OFFENSE_DESCRIPTION  71721 non-null  object \n",
      " 4   DISTRICT             70728 non-null  object \n",
      " 5   REPORTING_AREA       71721 non-null  object \n",
      " 6   SHOOTING             71721 non-null  int64  \n",
      " 7   OCCURRED_ON_DATE     71721 non-null  object \n",
      " 8   YEAR                 71721 non-null  int64  \n",
      " 9   MONTH                71721 non-null  int64  \n",
      " 10  DAY_OF_WEEK          71721 non-null  object \n",
      " 11  HOUR                 71721 non-null  int64  \n",
      " 12  UCR_PART             0 non-null      float64\n",
      " 13  STREET               71042 non-null  object \n",
      " 14  Lat                  71721 non-null  float64\n",
      " 15  Long                 71721 non-null  float64\n",
      " 16  Location             71721 non-null  object \n",
      "dtypes: float64(4), int64(5), object(8)\n",
      "memory usage: 9.3+ MB\n"
     ]
    }
   ],
   "source": [
    "df.info()"
   ]
  },
  {
   "cell_type": "markdown",
   "id": "cb6b27eb",
   "metadata": {},
   "source": [
    "<font color='green'>We can see that we have mainly object variables columns and missing values</font>"
   ]
  },
  {
   "cell_type": "markdown",
   "id": "543e6f84",
   "metadata": {},
   "source": [
    "<div class=\"alert alert-block alert-info\">\n",
    "<b></b> Data Cleaning"
   ]
  },
  {
   "cell_type": "markdown",
   "id": "3e6dc684",
   "metadata": {},
   "source": [
    "#### Removing duplicates and finding missing values are important, otherwise our models can lead us to incorrect conclusions"
   ]
  },
  {
   "cell_type": "code",
   "execution_count": 12,
   "id": "b369bca2",
   "metadata": {},
   "outputs": [
    {
     "name": "stdout",
     "output_type": "stream",
     "text": [
      "0\n"
     ]
    },
    {
     "data": {
      "text/html": [
       "<div>\n",
       "<style scoped>\n",
       "    .dataframe tbody tr th:only-of-type {\n",
       "        vertical-align: middle;\n",
       "    }\n",
       "\n",
       "    .dataframe tbody tr th {\n",
       "        vertical-align: top;\n",
       "    }\n",
       "\n",
       "    .dataframe thead th {\n",
       "        text-align: right;\n",
       "    }\n",
       "</style>\n",
       "<table border=\"1\" class=\"dataframe\">\n",
       "  <thead>\n",
       "    <tr style=\"text-align: right;\">\n",
       "      <th></th>\n",
       "      <th>INCIDENT_NUMBER</th>\n",
       "      <th>OFFENSE_CODE</th>\n",
       "      <th>OFFENSE_CODE_GROUP</th>\n",
       "      <th>OFFENSE_DESCRIPTION</th>\n",
       "      <th>DISTRICT</th>\n",
       "      <th>REPORTING_AREA</th>\n",
       "      <th>SHOOTING</th>\n",
       "      <th>OCCURRED_ON_DATE</th>\n",
       "      <th>YEAR</th>\n",
       "      <th>MONTH</th>\n",
       "      <th>DAY_OF_WEEK</th>\n",
       "      <th>HOUR</th>\n",
       "      <th>UCR_PART</th>\n",
       "      <th>STREET</th>\n",
       "      <th>Lat</th>\n",
       "      <th>Long</th>\n",
       "      <th>Location</th>\n",
       "    </tr>\n",
       "  </thead>\n",
       "  <tbody>\n",
       "  </tbody>\n",
       "</table>\n",
       "</div>"
      ],
      "text/plain": [
       "Empty DataFrame\n",
       "Columns: [INCIDENT_NUMBER, OFFENSE_CODE, OFFENSE_CODE_GROUP, OFFENSE_DESCRIPTION, DISTRICT, REPORTING_AREA, SHOOTING, OCCURRED_ON_DATE, YEAR, MONTH, DAY_OF_WEEK, HOUR, UCR_PART, STREET, Lat, Long, Location]\n",
       "Index: []"
      ]
     },
     "execution_count": 12,
     "metadata": {},
     "output_type": "execute_result"
    }
   ],
   "source": [
    "duplicate_Values=df.duplicated()\n",
    "print(duplicate_Values.sum())\n",
    "df[duplicate_Values]"
   ]
  },
  {
   "cell_type": "markdown",
   "id": "df180968",
   "metadata": {},
   "source": [
    "<font color='green'>There are no duplicate variables</font>"
   ]
  },
  {
   "cell_type": "markdown",
   "id": "81f001f3",
   "metadata": {},
   "source": [
    "#### Let explore the missing values"
   ]
  },
  {
   "cell_type": "code",
   "execution_count": 13,
   "id": "76367c3c",
   "metadata": {},
   "outputs": [
    {
     "name": "stdout",
     "output_type": "stream",
     "text": [
      "INCIDENT_NUMBER            0\n",
      "OFFENSE_CODE               0\n",
      "OFFENSE_CODE_GROUP     71721\n",
      "OFFENSE_DESCRIPTION        0\n",
      "DISTRICT                 993\n",
      "REPORTING_AREA             0\n",
      "SHOOTING                   0\n",
      "OCCURRED_ON_DATE           0\n",
      "YEAR                       0\n",
      "MONTH                      0\n",
      "DAY_OF_WEEK                0\n",
      "HOUR                       0\n",
      "UCR_PART               71721\n",
      "STREET                   679\n",
      "Lat                        0\n",
      "Long                       0\n",
      "Location                   0\n",
      "dtype: int64\n"
     ]
    }
   ],
   "source": [
    "print(df.isnull().sum())"
   ]
  },
  {
   "cell_type": "code",
   "execution_count": 14,
   "id": "bfd870b6",
   "metadata": {},
   "outputs": [
    {
     "name": "stdout",
     "output_type": "stream",
     "text": [
      "145114\n"
     ]
    }
   ],
   "source": [
    "# Count missing values in the dataset\n",
    "print(df.isnull().values.sum())"
   ]
  },
  {
   "cell_type": "markdown",
   "id": "c1bba036",
   "metadata": {},
   "source": [
    "<font color='green'>We see there are 145,114 of total missing values. The variables concerned are OFFENSE_CODE_GROUP, DISTRICT, UCR_PART and STREET</font>"
   ]
  },
  {
   "cell_type": "markdown",
   "id": "a1ef11a1",
   "metadata": {},
   "source": [
    "#### Let's go deeper in the analysis of the missing values. <br>The missingno Library provides a series of visualisations to understand the presence and distribution of missing data within a pandas dataframe. <br>There are four types of plots for visualising data completeness: the barplot, the matrix plot and the dendrogram plot."
   ]
  },
  {
   "cell_type": "code",
   "execution_count": 15,
   "id": "15c14b17",
   "metadata": {},
   "outputs": [],
   "source": [
    "import missingno as msno "
   ]
  },
  {
   "cell_type": "code",
   "execution_count": 16,
   "id": "36555754",
   "metadata": {},
   "outputs": [
    {
     "data": {
      "text/plain": [
       "<AxesSubplot:>"
      ]
     },
     "execution_count": 16,
     "metadata": {},
     "output_type": "execute_result"
    },
    {
     "data": {
      "image/png": "[encoded data removed]",
      "text/plain": [
       "<Figure size 1800x720 with 2 Axes>"
      ]
     },
     "metadata": {
      "needs_background": "light"
     },
     "output_type": "display_data"
    }
   ],
   "source": [
    "msno.matrix(df)"
   ]
  },
  {
   "cell_type": "markdown",
   "id": "d94abe53",
   "metadata": {},
   "source": [
    "#### The picture shows the amount and positions of missing values. The idea is to capture not only missing values but also data sparsity."
   ]
  },
  {
   "cell_type": "markdown",
   "id": "457dc59d",
   "metadata": {},
   "source": [
    "<font color='green'> The biggest variables concerned by missing values are OFFENSE_CODE_GROUP and UCR_PART, then DISTRICT and STREET which confirm our previous analysis</font>"
   ]
  },
  {
   "cell_type": "markdown",
   "id": "4a327046",
   "metadata": {},
   "source": [
    "#### The sparkline to the right highlights the rows in the dataset with the highest of 15 and lowest nullity of 13"
   ]
  },
  {
   "cell_type": "code",
   "execution_count": 17,
   "id": "ee914efa",
   "metadata": {},
   "outputs": [
    {
     "data": {
      "text/plain": [
       "<AxesSubplot:>"
      ]
     },
     "execution_count": 17,
     "metadata": {},
     "output_type": "execute_result"
    },
    {
     "data": {
      "image/png": "[encoded data removed]",
      "text/plain": [
       "<Figure size 1800x720 with 3 Axes>"
      ]
     },
     "metadata": {
      "needs_background": "light"
     },
     "output_type": "display_data"
    }
   ],
   "source": [
    "msno.bar(df)"
   ]
  },
  {
   "cell_type": "code",
   "execution_count": 18,
   "id": "ab274255",
   "metadata": {},
   "outputs": [
    {
     "data": {
      "text/plain": [
       "<AxesSubplot:>"
      ]
     },
     "execution_count": 18,
     "metadata": {},
     "output_type": "execute_result"
    },
    {
     "data": {
      "image/png": "[encoded data removed]",
      "text/plain": [
       "<Figure size 1800x720 with 1 Axes>"
      ]
     },
     "metadata": {
      "needs_background": "light"
     },
     "output_type": "display_data"
    }
   ],
   "source": [
    "msno.dendrogram(df)"
   ]
  },
  {
   "cell_type": "markdown",
   "id": "a406c345",
   "metadata": {},
   "source": [
    "#### This is a dendrogram, which uses a hierarchical clustering algorithm to bin variables against one another by their nullity correlation measured in terms of binary distance"
   ]
  },
  {
   "cell_type": "markdown",
   "id": "d1252c78",
   "metadata": {},
   "source": [
    "#### If columns are grouped together at level zero, it shows a strong correlation between them due to the presence or absence of null values. If they are grouped much further from zero, then the correlation is much less likely."
   ]
  },
  {
   "cell_type": "markdown",
   "id": "49ecf73f",
   "metadata": {},
   "source": [
    "<font color='green'>The variables OFFENSE_CODE, INCIDENT_NUMBER,OFFENSE_DESCRIPTION, REPORTING_AREA, SHOOTING, OCCURED_ON_DATE, YEAR, MONTH, DAY_OF_THE_WEEK, HOUR and Lat have a strong correlation. </font>"
   ]
  },
  {
   "cell_type": "code",
   "execution_count": 19,
   "id": "517a5d57",
   "metadata": {},
   "outputs": [
    {
     "data": {
      "text/plain": [
       "INCIDENT_NUMBER            0\n",
       "OFFENSE_CODE               0\n",
       "OFFENSE_CODE_GROUP     71721\n",
       "OFFENSE_DESCRIPTION        0\n",
       "DISTRICT                 993\n",
       "REPORTING_AREA             0\n",
       "SHOOTING                   0\n",
       "OCCURRED_ON_DATE           0\n",
       "YEAR                       0\n",
       "MONTH                      0\n",
       "dtype: int64"
      ]
     },
     "execution_count": 19,
     "metadata": {},
     "output_type": "execute_result"
    }
   ],
   "source": [
    "# get the number of missing data points per column\n",
    "missing_values_count = df.isnull().sum()\n",
    "\n",
    "# look at the # of missing points in the first ten columns\n",
    "missing_values_count[0:10]"
   ]
  },
  {
   "cell_type": "code",
   "execution_count": 20,
   "id": "b1e06d4a",
   "metadata": {},
   "outputs": [
    {
     "data": {
      "text/plain": [
       "11.901838578740987"
      ]
     },
     "execution_count": 20,
     "metadata": {},
     "output_type": "execute_result"
    }
   ],
   "source": [
    "# how many total missing values do we have?\n",
    "total_cells = np.product(df.shape)\n",
    "total_missing = missing_values_count.sum()\n",
    "\n",
    "# percent of data that is missing\n",
    "(total_missing/total_cells) * 100"
   ]
  },
  {
   "cell_type": "markdown",
   "id": "b3798b5b",
   "metadata": {},
   "source": [
    "<font color='green'> We have approximately 12% of missing values</font> "
   ]
  },
  {
   "cell_type": "markdown",
   "id": "1832cb74",
   "metadata": {},
   "source": [
    "#### Let's remove all columns with at least one missing value"
   ]
  },
  {
   "cell_type": "code",
   "execution_count": 21,
   "id": "0b2bf77d",
   "metadata": {},
   "outputs": [
    {
     "data": {
      "text/html": [
       "<div>\n",
       "<style scoped>\n",
       "    .dataframe tbody tr th:only-of-type {\n",
       "        vertical-align: middle;\n",
       "    }\n",
       "\n",
       "    .dataframe tbody tr th {\n",
       "        vertical-align: top;\n",
       "    }\n",
       "\n",
       "    .dataframe thead th {\n",
       "        text-align: right;\n",
       "    }\n",
       "</style>\n",
       "<table border=\"1\" class=\"dataframe\">\n",
       "  <thead>\n",
       "    <tr style=\"text-align: right;\">\n",
       "      <th></th>\n",
       "      <th>INCIDENT_NUMBER</th>\n",
       "      <th>OFFENSE_CODE</th>\n",
       "      <th>OFFENSE_DESCRIPTION</th>\n",
       "      <th>REPORTING_AREA</th>\n",
       "      <th>SHOOTING</th>\n",
       "      <th>OCCURRED_ON_DATE</th>\n",
       "      <th>YEAR</th>\n",
       "      <th>MONTH</th>\n",
       "      <th>DAY_OF_WEEK</th>\n",
       "      <th>HOUR</th>\n",
       "      <th>Lat</th>\n",
       "      <th>Long</th>\n",
       "      <th>Location</th>\n",
       "    </tr>\n",
       "  </thead>\n",
       "  <tbody>\n",
       "    <tr>\n",
       "      <th>0</th>\n",
       "      <td>PLTEST005</td>\n",
       "      <td>520</td>\n",
       "      <td>BURGLARY - RESIDENTIAL</td>\n",
       "      <td>289</td>\n",
       "      <td>1</td>\n",
       "      <td>2021-10-13 00:00:00</td>\n",
       "      <td>2021</td>\n",
       "      <td>10</td>\n",
       "      <td>Wednesday</td>\n",
       "      <td>0</td>\n",
       "      <td>42.333679</td>\n",
       "      <td>-71.091878</td>\n",
       "      <td>(42.33367921810846, -71.09187754618458)</td>\n",
       "    </tr>\n",
       "    <tr>\n",
       "      <th>1</th>\n",
       "      <td>PLTEST003</td>\n",
       "      <td>3114</td>\n",
       "      <td>INVESTIGATE PROPERTY</td>\n",
       "      <td>289</td>\n",
       "      <td>0</td>\n",
       "      <td>2021-05-12 00:00:00</td>\n",
       "      <td>2021</td>\n",
       "      <td>5</td>\n",
       "      <td>Wednesday</td>\n",
       "      <td>0</td>\n",
       "      <td>42.333679</td>\n",
       "      <td>-71.091878</td>\n",
       "      <td>(42.33367921810846, -71.09187754618458)</td>\n",
       "    </tr>\n",
       "    <tr>\n",
       "      <th>2</th>\n",
       "      <td>PLTEST002</td>\n",
       "      <td>3114</td>\n",
       "      <td>INVESTIGATE PROPERTY</td>\n",
       "      <td>289</td>\n",
       "      <td>0</td>\n",
       "      <td>2021-05-12 00:00:00</td>\n",
       "      <td>2021</td>\n",
       "      <td>5</td>\n",
       "      <td>Wednesday</td>\n",
       "      <td>0</td>\n",
       "      <td>42.333679</td>\n",
       "      <td>-71.091878</td>\n",
       "      <td>(42.33367921810846, -71.09187754618458)</td>\n",
       "    </tr>\n",
       "    <tr>\n",
       "      <th>3</th>\n",
       "      <td>PLTEST001</td>\n",
       "      <td>3114</td>\n",
       "      <td>INVESTIGATE PROPERTY</td>\n",
       "      <td></td>\n",
       "      <td>0</td>\n",
       "      <td>2021-03-29 00:00:00</td>\n",
       "      <td>2021</td>\n",
       "      <td>3</td>\n",
       "      <td>Monday</td>\n",
       "      <td>0</td>\n",
       "      <td>0.000000</td>\n",
       "      <td>0.000000</td>\n",
       "      <td>(0, 0)</td>\n",
       "    </tr>\n",
       "    <tr>\n",
       "      <th>4</th>\n",
       "      <td>312030979</td>\n",
       "      <td>3201</td>\n",
       "      <td>PROPERTY - LOST/ MISSING</td>\n",
       "      <td>465</td>\n",
       "      <td>0</td>\n",
       "      <td>2021-03-22 00:00:00</td>\n",
       "      <td>2021</td>\n",
       "      <td>3</td>\n",
       "      <td>Monday</td>\n",
       "      <td>0</td>\n",
       "      <td>42.284826</td>\n",
       "      <td>-71.091374</td>\n",
       "      <td>(42.28482576580488, -71.09137368938802)</td>\n",
       "    </tr>\n",
       "  </tbody>\n",
       "</table>\n",
       "</div>"
      ],
      "text/plain": [
       "  INCIDENT_NUMBER  OFFENSE_CODE       OFFENSE_DESCRIPTION REPORTING_AREA  \\\n",
       "0       PLTEST005           520    BURGLARY - RESIDENTIAL            289   \n",
       "1       PLTEST003          3114      INVESTIGATE PROPERTY            289   \n",
       "2       PLTEST002          3114      INVESTIGATE PROPERTY            289   \n",
       "3       PLTEST001          3114      INVESTIGATE PROPERTY                  \n",
       "4       312030979          3201  PROPERTY - LOST/ MISSING            465   \n",
       "\n",
       "   SHOOTING     OCCURRED_ON_DATE  YEAR  MONTH DAY_OF_WEEK  HOUR        Lat  \\\n",
       "0         1  2021-10-13 00:00:00  2021     10   Wednesday     0  42.333679   \n",
       "1         0  2021-05-12 00:00:00  2021      5   Wednesday     0  42.333679   \n",
       "2         0  2021-05-12 00:00:00  2021      5   Wednesday     0  42.333679   \n",
       "3         0  2021-03-29 00:00:00  2021      3      Monday     0   0.000000   \n",
       "4         0  2021-03-22 00:00:00  2021      3      Monday     0  42.284826   \n",
       "\n",
       "        Long                                 Location  \n",
       "0 -71.091878  (42.33367921810846, -71.09187754618458)  \n",
       "1 -71.091878  (42.33367921810846, -71.09187754618458)  \n",
       "2 -71.091878  (42.33367921810846, -71.09187754618458)  \n",
       "3   0.000000                                   (0, 0)  \n",
       "4 -71.091374  (42.28482576580488, -71.09137368938802)  "
      ]
     },
     "execution_count": 21,
     "metadata": {},
     "output_type": "execute_result"
    }
   ],
   "source": [
    "columns_with_na_dropped = df.dropna(axis=1)\n",
    "columns_with_na_dropped.head()"
   ]
  },
  {
   "cell_type": "markdown",
   "id": "4116bf2b",
   "metadata": {},
   "source": [
    "<font color='green'> To solve our problem , I remove the following columns we do not need, along with rows with missing values</font> "
   ]
  },
  {
   "cell_type": "code",
   "execution_count": 22,
   "id": "15bb1c16",
   "metadata": {},
   "outputs": [
    {
     "data": {
      "text/html": [
       "<div>\n",
       "<style scoped>\n",
       "    .dataframe tbody tr th:only-of-type {\n",
       "        vertical-align: middle;\n",
       "    }\n",
       "\n",
       "    .dataframe tbody tr th {\n",
       "        vertical-align: top;\n",
       "    }\n",
       "\n",
       "    .dataframe thead th {\n",
       "        text-align: right;\n",
       "    }\n",
       "</style>\n",
       "<table border=\"1\" class=\"dataframe\">\n",
       "  <thead>\n",
       "    <tr style=\"text-align: right;\">\n",
       "      <th></th>\n",
       "      <th>OFFENSE_DESCRIPTION</th>\n",
       "      <th>REPORTING_AREA</th>\n",
       "      <th>SHOOTING</th>\n",
       "      <th>YEAR</th>\n",
       "      <th>MONTH</th>\n",
       "      <th>DAY_OF_WEEK</th>\n",
       "      <th>HOUR</th>\n",
       "      <th>Lat</th>\n",
       "      <th>Location</th>\n",
       "    </tr>\n",
       "  </thead>\n",
       "  <tbody>\n",
       "    <tr>\n",
       "      <th>0</th>\n",
       "      <td>BURGLARY - RESIDENTIAL</td>\n",
       "      <td>289</td>\n",
       "      <td>1</td>\n",
       "      <td>2021</td>\n",
       "      <td>10</td>\n",
       "      <td>Wednesday</td>\n",
       "      <td>0</td>\n",
       "      <td>42.333679</td>\n",
       "      <td>(42.33367921810846, -71.09187754618458)</td>\n",
       "    </tr>\n",
       "    <tr>\n",
       "      <th>1</th>\n",
       "      <td>INVESTIGATE PROPERTY</td>\n",
       "      <td>289</td>\n",
       "      <td>0</td>\n",
       "      <td>2021</td>\n",
       "      <td>5</td>\n",
       "      <td>Wednesday</td>\n",
       "      <td>0</td>\n",
       "      <td>42.333679</td>\n",
       "      <td>(42.33367921810846, -71.09187754618458)</td>\n",
       "    </tr>\n",
       "    <tr>\n",
       "      <th>2</th>\n",
       "      <td>INVESTIGATE PROPERTY</td>\n",
       "      <td>289</td>\n",
       "      <td>0</td>\n",
       "      <td>2021</td>\n",
       "      <td>5</td>\n",
       "      <td>Wednesday</td>\n",
       "      <td>0</td>\n",
       "      <td>42.333679</td>\n",
       "      <td>(42.33367921810846, -71.09187754618458)</td>\n",
       "    </tr>\n",
       "    <tr>\n",
       "      <th>3</th>\n",
       "      <td>INVESTIGATE PROPERTY</td>\n",
       "      <td></td>\n",
       "      <td>0</td>\n",
       "      <td>2021</td>\n",
       "      <td>3</td>\n",
       "      <td>Monday</td>\n",
       "      <td>0</td>\n",
       "      <td>0.000000</td>\n",
       "      <td>(0, 0)</td>\n",
       "    </tr>\n",
       "    <tr>\n",
       "      <th>4</th>\n",
       "      <td>PROPERTY - LOST/ MISSING</td>\n",
       "      <td>465</td>\n",
       "      <td>0</td>\n",
       "      <td>2021</td>\n",
       "      <td>3</td>\n",
       "      <td>Monday</td>\n",
       "      <td>0</td>\n",
       "      <td>42.284826</td>\n",
       "      <td>(42.28482576580488, -71.09137368938802)</td>\n",
       "    </tr>\n",
       "    <tr>\n",
       "      <th>...</th>\n",
       "      <td>...</td>\n",
       "      <td>...</td>\n",
       "      <td>...</td>\n",
       "      <td>...</td>\n",
       "      <td>...</td>\n",
       "      <td>...</td>\n",
       "      <td>...</td>\n",
       "      <td>...</td>\n",
       "      <td>...</td>\n",
       "    </tr>\n",
       "    <tr>\n",
       "      <th>71716</th>\n",
       "      <td>FRAUD - FALSE PRETENSE / SCHEME</td>\n",
       "      <td>289</td>\n",
       "      <td>0</td>\n",
       "      <td>2021</td>\n",
       "      <td>1</td>\n",
       "      <td>Tuesday</td>\n",
       "      <td>12</td>\n",
       "      <td>42.333679</td>\n",
       "      <td>(42.33367921810846, -71.09187754618458)</td>\n",
       "    </tr>\n",
       "    <tr>\n",
       "      <th>71717</th>\n",
       "      <td>NOISY PARTY/RADIO-NO ARREST</td>\n",
       "      <td>675</td>\n",
       "      <td>0</td>\n",
       "      <td>2021</td>\n",
       "      <td>1</td>\n",
       "      <td>Monday</td>\n",
       "      <td>0</td>\n",
       "      <td>0.000000</td>\n",
       "      <td>(0, 0)</td>\n",
       "    </tr>\n",
       "    <tr>\n",
       "      <th>71718</th>\n",
       "      <td>SICK/INJURED/MEDICAL - PERSON</td>\n",
       "      <td>680</td>\n",
       "      <td>0</td>\n",
       "      <td>2021</td>\n",
       "      <td>4</td>\n",
       "      <td>Friday</td>\n",
       "      <td>10</td>\n",
       "      <td>42.283902</td>\n",
       "      <td>(42.283902436483125, -71.13086262643496)</td>\n",
       "    </tr>\n",
       "    <tr>\n",
       "      <th>71719</th>\n",
       "      <td>WARRANT ARREST - BOSTON WARRANT (MUST BE SUPPL...</td>\n",
       "      <td>270</td>\n",
       "      <td>0</td>\n",
       "      <td>2021</td>\n",
       "      <td>1</td>\n",
       "      <td>Tuesday</td>\n",
       "      <td>18</td>\n",
       "      <td>42.333951</td>\n",
       "      <td>(42.333951248393774, -71.07538938822692)</td>\n",
       "    </tr>\n",
       "    <tr>\n",
       "      <th>71720</th>\n",
       "      <td>INVESTIGATE PERSON</td>\n",
       "      <td></td>\n",
       "      <td>0</td>\n",
       "      <td>2021</td>\n",
       "      <td>10</td>\n",
       "      <td>Saturday</td>\n",
       "      <td>1</td>\n",
       "      <td>42.331320</td>\n",
       "      <td>(42.33132003900925, -71.04407996166562)</td>\n",
       "    </tr>\n",
       "  </tbody>\n",
       "</table>\n",
       "<p>71721 rows × 9 columns</p>\n",
       "</div>"
      ],
      "text/plain": [
       "                                     OFFENSE_DESCRIPTION REPORTING_AREA  \\\n",
       "0                                 BURGLARY - RESIDENTIAL            289   \n",
       "1                                   INVESTIGATE PROPERTY            289   \n",
       "2                                   INVESTIGATE PROPERTY            289   \n",
       "3                                   INVESTIGATE PROPERTY                  \n",
       "4                               PROPERTY - LOST/ MISSING            465   \n",
       "...                                                  ...            ...   \n",
       "71716                    FRAUD - FALSE PRETENSE / SCHEME            289   \n",
       "71717                        NOISY PARTY/RADIO-NO ARREST            675   \n",
       "71718                      SICK/INJURED/MEDICAL - PERSON            680   \n",
       "71719  WARRANT ARREST - BOSTON WARRANT (MUST BE SUPPL...            270   \n",
       "71720                                 INVESTIGATE PERSON                  \n",
       "\n",
       "       SHOOTING  YEAR  MONTH DAY_OF_WEEK  HOUR        Lat  \\\n",
       "0             1  2021     10   Wednesday     0  42.333679   \n",
       "1             0  2021      5   Wednesday     0  42.333679   \n",
       "2             0  2021      5   Wednesday     0  42.333679   \n",
       "3             0  2021      3      Monday     0   0.000000   \n",
       "4             0  2021      3      Monday     0  42.284826   \n",
       "...         ...   ...    ...         ...   ...        ...   \n",
       "71716         0  2021      1     Tuesday    12  42.333679   \n",
       "71717         0  2021      1      Monday     0   0.000000   \n",
       "71718         0  2021      4      Friday    10  42.283902   \n",
       "71719         0  2021      1     Tuesday    18  42.333951   \n",
       "71720         0  2021     10    Saturday     1  42.331320   \n",
       "\n",
       "                                       Location  \n",
       "0       (42.33367921810846, -71.09187754618458)  \n",
       "1       (42.33367921810846, -71.09187754618458)  \n",
       "2       (42.33367921810846, -71.09187754618458)  \n",
       "3                                        (0, 0)  \n",
       "4       (42.28482576580488, -71.09137368938802)  \n",
       "...                                         ...  \n",
       "71716   (42.33367921810846, -71.09187754618458)  \n",
       "71717                                    (0, 0)  \n",
       "71718  (42.283902436483125, -71.13086262643496)  \n",
       "71719  (42.333951248393774, -71.07538938822692)  \n",
       "71720   (42.33132003900925, -71.04407996166562)  \n",
       "\n",
       "[71721 rows x 9 columns]"
      ]
     },
     "execution_count": 22,
     "metadata": {},
     "output_type": "execute_result"
    }
   ],
   "source": [
    "df.drop(['OFFENSE_CODE_GROUP','OFFENSE_CODE','DISTRICT', 'UCR_PART', 'STREET','OCCURRED_ON_DATE','INCIDENT_NUMBER', 'Long'],axis=1)"
   ]
  },
  {
   "cell_type": "markdown",
   "id": "c705fb87",
   "metadata": {},
   "source": [
    "#### If we specify the parameter axis=1, it will delete all the columns with at least one missing element. <br>If we specify the parameter axis=0, it will delete all the rows with at least one missing element. This deletion is the default behavior."
   ]
  },
  {
   "cell_type": "code",
   "execution_count": 23,
   "id": "dd28c540",
   "metadata": {},
   "outputs": [
    {
     "data": {
      "text/plain": [
       "array(['none'], dtype=object)"
      ]
     },
     "execution_count": 23,
     "metadata": {},
     "output_type": "execute_result"
    }
   ],
   "source": [
    "df.UCR_PART.fillna('none', inplace=True)\n",
    "df['UCR_PART'].unique()"
   ]
  },
  {
   "cell_type": "code",
   "execution_count": 24,
   "id": "fd0d0355",
   "metadata": {},
   "outputs": [
    {
     "data": {
      "text/plain": [
       "array(['none'], dtype=object)"
      ]
     },
     "execution_count": 24,
     "metadata": {},
     "output_type": "execute_result"
    }
   ],
   "source": [
    "df.OFFENSE_CODE_GROUP.fillna('none', inplace=True)\n",
    "df['OFFENSE_CODE_GROUP'].unique()"
   ]
  },
  {
   "cell_type": "code",
   "execution_count": 25,
   "id": "368d6c9c",
   "metadata": {},
   "outputs": [
    {
     "name": "stdout",
     "output_type": "stream",
     "text": [
      "<class 'pandas.core.frame.DataFrame'>\n",
      "RangeIndex: 71721 entries, 0 to 71720\n",
      "Data columns (total 17 columns):\n",
      " #   Column               Non-Null Count  Dtype  \n",
      "---  ------               --------------  -----  \n",
      " 0   INCIDENT_NUMBER      71721 non-null  object \n",
      " 1   OFFENSE_CODE         71721 non-null  int64  \n",
      " 2   OFFENSE_CODE_GROUP   71721 non-null  object \n",
      " 3   OFFENSE_DESCRIPTION  71721 non-null  object \n",
      " 4   DISTRICT             70728 non-null  object \n",
      " 5   REPORTING_AREA       71721 non-null  object \n",
      " 6   SHOOTING             71721 non-null  int64  \n",
      " 7   OCCURRED_ON_DATE     71721 non-null  object \n",
      " 8   YEAR                 71721 non-null  int64  \n",
      " 9   MONTH                71721 non-null  int64  \n",
      " 10  DAY_OF_WEEK          71721 non-null  object \n",
      " 11  HOUR                 71721 non-null  int64  \n",
      " 12  UCR_PART             71721 non-null  object \n",
      " 13  STREET               71042 non-null  object \n",
      " 14  Lat                  71721 non-null  float64\n",
      " 15  Long                 71721 non-null  float64\n",
      " 16  Location             71721 non-null  object \n",
      "dtypes: float64(2), int64(5), object(10)\n",
      "memory usage: 9.3+ MB\n"
     ]
    }
   ],
   "source": [
    "df.info()"
   ]
  },
  {
   "cell_type": "markdown",
   "id": "8642e853",
   "metadata": {},
   "source": [
    "<font color='green'> Our dataframe is free from missing values <br> MISSION ACCOMPLISHED</font> "
   ]
  }
 ],
 "metadata": {
  "kernelspec": {
   "display_name": "Python 3 (ipykernel)",
   "language": "python",
   "name": "python3"
  },
  "language_info": {
   "codemirror_mode": {
    "name": "ipython",
    "version": 3
   },
   "file_extension": ".py",
   "mimetype": "text/x-python",
   "name": "python",
   "nbconvert_exporter": "python",
   "pygments_lexer": "ipython3",
   "version": "3.9.12"
  }
 },
 "nbformat": 4,
 "nbformat_minor": 5
}
